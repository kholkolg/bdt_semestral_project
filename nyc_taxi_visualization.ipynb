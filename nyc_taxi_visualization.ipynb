{
 "cells": [
  {
   "cell_type": "code",
   "execution_count": null,
   "metadata": {},
   "outputs": [],
   "source": [
    "import pandas as pd\n",
    "import numpy as np\n",
    "from matplotlib import pyplot as plt\n",
    "\n",
    "from matplotlib.dates import DateFormatter\n",
    "import matplotlib.dates as mdates\n",
    "import matplotlib.ticker as mtick\n",
    "from pandas.api.types import CategoricalDtype\n"
   ]
  },
  {
   "cell_type": "code",
   "execution_count": null,
   "metadata": {},
   "outputs": [],
   "source": [
    "PIC_DIR = '/home/olga/Documents/BDT/results/pics2'\n",
    "RESULT_DIR = '/home/olga/Documents/BDT/results/nyc_results/'\n",
    "YEAR = 2015\n",
    "PIC_SCALE = 10**3\n",
    "from bdt.plot_utils import *"
   ]
  },
  {
   "cell_type": "code",
   "execution_count": null,
   "metadata": {},
   "outputs": [],
   "source": [
    "# Daily data on trip counts, total distance travelled,\n",
    "# and amount of transferred passengers\n",
    "#\n",
    "dir = RESULT_DIR + 'trip_daily_sums'\n",
    "columns = ['day_of_year', 'trip_count', 'passenger_count', 'total_distance']\n",
    "nycDF = read_df(dir, columns, columns[0])\n",
    "nycDF['date'] = pd.to_datetime(nycDF['day_of_year'], format='%j')\n",
    "nycDF.set_index(['date'], inplace=True)\n",
    "print(nycDF.head(5))\n",
    "# convert distance from meters to km, \n",
    "# scale everything down \n",
    "nycDF['total_distance'] = nycDF['total_distance'] // 1000*PIC_SCALE\n",
    "nycDF['passenger_count'] = nycDF['passenger_count'] // PIC_SCALE\n",
    "nycDF['trip_count'] = nycDF['trip_count'] // PIC_SCALE\n",
    "\n",
    "plot_column(nycDF, 'trip_count', 'Trips, $10^3$', 'Trip counts. New York 2015')\n",
    "plot_column(nycDF, 'total_distance', 'Distance travelled, km $10^3$', 'Total distance travelled. New York 2015')\n",
    "plot_column(nycDF, 'passenger_count', 'Passengers, $10^3$','Number of transferred passengers. New York 2015')"
   ]
  },
  {
   "cell_type": "code",
   "execution_count": null,
   "metadata": {},
   "outputs": [],
   "source": [
    "#plot daily statistics on number of passengers in one request\n",
    "dir = RESULT_DIR + 'daily_passengers'\n",
    "columns = ['day_of_year', 'passenger_count', 'trip_count']\n",
    "df = read_df(dir, columns, columns[0])\n",
    "df['date'] = pd.to_datetime(df['day_of_year'], format='%j')\n",
    "df.set_index(['date'], inplace=True)\n",
    "\n",
    "width = 0.9  \n",
    "bottom = np.zeros(len(pd.unique(df.day_of_year)))\n",
    "legend_data = [[], []]\n",
    "\n",
    "for pcount in range(1, 7):\n",
    "    filtered = df[df['passenger_count'] == pcount]\n",
    "    y = np.array(filtered.trip_count)/1000\n",
    "    p = plt.bar(filtered.index.values, y, width,\n",
    "                     bottom=bottom)\n",
    "    legend_data[0].append(p[0])\n",
    "    legend_data[1].append('%s passengers' % pcount)\n",
    "    bottom = bottom + y\n",
    "plt.ylabel('Trip counts, $10^3$')\n",
    "\n",
    "ax = plt.gca()\n",
    "ax.set_title('Trips by number of passengers. New York 2015')\n",
    "ax.xaxis.set_major_locator(mdates.AutoDateLocator())\n",
    "ax.xaxis.set_major_formatter(DateFormatter(\"%d/%m\"))\n",
    "plt.legend(tuple(legend_data[0]), tuple(legend_data[1]),loc='upper right' )\n",
    "plt.show()\n"
   ]
  },
  {
   "cell_type": "code",
   "execution_count": null,
   "metadata": {},
   "outputs": [],
   "source": [
    "from bdt.nyc_hist_results import *\n",
    "\n",
    "# histograms over all range of data\n",
    "histogram_data = [distance_hist, passenger_hist, duration_hist, speed_hist]\n",
    "labels = [['Distance histogram', 'Trip distance, meters', 'Count, trips '],\n",
    "          ['Passenger histogram', 'Number of passengers', 'Count, trips'],\n",
    "          ['Duration histogram', 'Trip duration, seconds', 'Count, trips'],\n",
    "          ['Speed histogram', 'Average trip speed, m/s', 'Count, trips']]\n",
    "\n",
    "for i in range(len(histogram_data)):\n",
    "   plot_rdd_histogram(histogram_data[i], *labels[i])\n"
   ]
  },
  {
   "cell_type": "code",
   "execution_count": null,
   "metadata": {},
   "outputs": [],
   "source": [
    "# first bins from previous histograms   \n",
    "histogram_data2 = [distance_hist3km, duration_hist30min, speed_40hist, daily_counts_hist]\n",
    "labels2 = [['Trips shorter than 3 km', 'Trip distance, meters', 'Count, trips '],\n",
    "           ['Trips shorter than 30 minutes', 'Trip duration, seconds', 'Count, trips'],\n",
    "           ['Speeds lower than 40 km/h', 'Average trip speed, m/s', 'Count, trips'],\n",
    "           ['Daily trip counts histogram', 'Count, trips', 'Count, days']]\n",
    "\n",
    "\n",
    "for i in range(len(histogram_data2)):\n",
    "   plot_rdd_histogram(histogram_data2[i], *labels2[i])\n"
   ]
  },
  {
   "cell_type": "code",
   "execution_count": null,
   "metadata": {},
   "outputs": [],
   "source": [
    "# weather\n",
    "dir = RESULT_DIR + 'weather_daily_means'\n",
    "columns =  ['date','Temperature, C', 'Humidity, %', 'Wind speed, m/s', 'Pressure, mm Hg']\n",
    "weatherDF = read_df(dir, columns, 'date')\n",
    "weatherDF['date'] = pd.to_datetime(weatherDF['date']).dt.date\n",
    "weatherDF.set_index(['date'], inplace=True)\n",
    "plot_weather(weatherDF, columns)\n"
   ]
  },
  {
   "cell_type": "code",
   "execution_count": null,
   "metadata": {},
   "outputs": [],
   "source": [
    "# average speed and number of trips\n",
    "# by day of the week and time\n",
    "dir3 =  RESULT_DIR + 'weekdays_stats'\n",
    "columns = ['Week Day', 'Hour', 'trip_count' ,'total_duration', 'avg_speed_ms']\n",
    "df3 = read_df(dir3, columns)\n",
    "\n",
    "# otherwise pandas sorts them alphabetically\n",
    "cats = [ 'Monday', 'Tuesday', 'Wednesday', 'Thursday', 'Friday', 'Saturday', 'Sunday']\n",
    "cat_type = CategoricalDtype(categories=cats, ordered=True)\n",
    "df3['Week Day'] = df3['Week Day'].astype(cat_type)\n",
    "df3.sort_values(by=['Week Day', 'Hour'], inplace=True)\n",
    "\n",
    "df3['avg_speed_ms'] = np.round(df3['avg_speed_ms'])\n",
    "plot_heatmap(df3, 'avg_speed_ms')\n",
    "\n",
    "\n",
    "df3['trip_count'] = np.round(df3['trip_count'] / PIC_SCALE)\n",
    "plot_heatmap(df3, 'trip_count')\n",
    "\n"
   ]
  },
  {
   "cell_type": "code",
   "execution_count": null,
   "metadata": {},
   "outputs": [],
   "source": [
    "# does number of trips depends on weather conditions?\n",
    "from sklearn import linear_model\n",
    "from sklearn.metrics import mean_squared_error, r2_score\n",
    "\n",
    "weather_columns = ['date', 'Temperature, C', 'Humidity, %', 'Wind speed, m/s', 'Pressure, mm Hg']\n",
    "\n",
    "weatherDF['day_of_year'] = [int(format(dt, '%j')) for dt in weatherDF.index.values]\n",
    "train_size = 250\n",
    "# split dataframes into training and testing subsets\n",
    "weather_train = weatherDF[weatherDF['day_of_year'] <= train_size]\n",
    "nyc_train = nycDF[nycDF['day_of_year'] <= train_size]\n",
    "weather_test = weatherDF[weatherDF['day_of_year'] > train_size]\n",
    "nyc_test = nycDF[nycDF['day_of_year'] > train_size]\n",
    "\n",
    "y_train = np.array([nyc_train['trip_count']]).reshape(len(nyc_train.index.values))\n",
    "y_test = np.array([nyc_test['trip_count']]).reshape(len(nyc_test.index.values))\n",
    "y_train = y_train/1000\n",
    "y_test = y_test/1000\n",
    "\n",
    "for col in weather_columns[1:]:\n",
    "    x_train = np.array([weather_train[col]]).T\n",
    "    x_test = np.array([weather_test[col]]).T\n",
    "\n",
    "    # Create linear regression model\n",
    "    regr = linear_model.LinearRegression(normalize=True)\n",
    "\n",
    "    # Train the model using the training sets\n",
    "    regr.fit(x_train, y_train)\n",
    "\n",
    "    # Make predictions using the testing set\n",
    "    y_predicted = regr.predict(x_test)\n",
    "\n",
    "    print('Coefficients: \\n', regr.coef_)\n",
    "    print('Mean squared error: %.2f' % mean_squared_error(y_test, y_predicted))\n",
    "    print('Coefficient of determination: %.2f' % r2_score(y_test, y_predicted))\n",
    "\n",
    "    # Plot outputs\n",
    "    plt.scatter(x_test, y_test, color='#86bf91', s=10, zorder=2)\n",
    "    plt.plot(x_test, y_predicted, color='blue', linewidth=1, zorder=3)\n",
    "    ax = plt.gca()\n",
    "    for tick in ax.get_yticks():\n",
    "        ax.axhline(y=tick, linestyle='dashed', alpha=0.6, color='#dddddd', zorder=1)\n",
    "    param = col.split(',')[0].lower()\n",
    "    ax.set_title('Dependence of trip count on {}'.format(param))\n",
    "    ax.set_ylabel('Trip count, $10^3$', labelpad=20)\n",
    "    ax.set_xlabel(col, labelpad=20)\n",
    "\n",
    "    plt.show()"
   ]
  },
  {
   "cell_type": "code",
   "execution_count": null,
   "metadata": {},
   "outputs": [],
   "source": []
  }
 ],
 "metadata": {
  "kernelspec": {
   "display_name": "Python 3",
   "language": "python",
   "name": "python3"
  },
  "language_info": {
   "codemirror_mode": {
    "name": "ipython",
    "version": 3
   },
   "file_extension": ".py",
   "mimetype": "text/x-python",
   "name": "python",
   "nbconvert_exporter": "python",
   "pygments_lexer": "ipython3",
   "version": "3.7.3"
  }
 },
 "nbformat": 4,
 "nbformat_minor": 1
}
